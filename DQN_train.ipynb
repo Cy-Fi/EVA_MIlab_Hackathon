{
  "nbformat": 4,
  "nbformat_minor": 0,
  "metadata": {
    "colab": {
      "provenance": []
    },
    "kernelspec": {
      "name": "python3",
      "display_name": "Python 3"
    },
    "language_info": {
      "name": "python"
    }
  },
  "cells": [
    {
      "cell_type": "code",
      "source": [
        "from google.colab import drive\n",
        "drive.mount('/content/gdrive')\n",
        "%cd /content/gdrive/My Drive/EVA_MiLab_Hackathon\n",
        "\n",
        "%load_ext autoreload\n",
        "%autoreload 2"
      ],
      "metadata": {
        "colab": {
          "base_uri": "https://localhost:8080/"
        },
        "id": "vS_0d48Ojx0q",
        "outputId": "5bf46f42-8082-4f8c-f816-8c77afb27083"
      },
      "execution_count": 44,
      "outputs": [
        {
          "output_type": "stream",
          "name": "stdout",
          "text": [
            "Drive already mounted at /content/gdrive; to attempt to forcibly remount, call drive.mount(\"/content/gdrive\", force_remount=True).\n",
            "/content/gdrive/My Drive/EVA_MiLab_Hackathon\n",
            "The autoreload extension is already loaded. To reload it, use:\n",
            "  %reload_ext autoreload\n"
          ]
        }
      ]
    },
    {
      "cell_type": "code",
      "source": [
        "!pip install swig\n",
        "!pip install \"gymnasium[box2d]\""
      ],
      "metadata": {
        "colab": {
          "base_uri": "https://localhost:8080/"
        },
        "id": "tFsQ0KVWlGZb",
        "outputId": "ee7adf49-5ed7-400d-cd0f-62faedd7409d"
      },
      "execution_count": 102,
      "outputs": [
        {
          "output_type": "stream",
          "name": "stderr",
          "text": [
            "[autoreload of agents.cnn_dqn failed: Traceback (most recent call last):\n",
            "  File \"/usr/local/lib/python3.11/dist-packages/IPython/extensions/autoreload.py\", line 245, in check\n",
            "    superreload(m, reload, self.old_objects)\n",
            "  File \"/usr/local/lib/python3.11/dist-packages/IPython/extensions/autoreload.py\", line 394, in superreload\n",
            "    module = reload(module)\n",
            "             ^^^^^^^^^^^^^^\n",
            "  File \"/usr/lib/python3.11/imp.py\", line 315, in reload\n",
            "    return importlib.reload(module)\n",
            "           ^^^^^^^^^^^^^^^^^^^^^^^^\n",
            "  File \"/usr/lib/python3.11/importlib/__init__.py\", line 169, in reload\n",
            "    _bootstrap._exec(spec, module)\n",
            "  File \"<frozen importlib._bootstrap>\", line 621, in _exec\n",
            "  File \"<frozen importlib._bootstrap_external>\", line 940, in exec_module\n",
            "  File \"<frozen importlib._bootstrap>\", line 241, in _call_with_frames_removed\n",
            "  File \"/content/gdrive/MyDrive/EVA_MiLab_Hackathon/agents/cnn_dqn.py\", line 9, in <module>\n",
            "    from ..utils.memory import ReplayBuffer\n",
            "ImportError: attempted relative import beyond top-level package\n",
            "]\n"
          ]
        },
        {
          "output_type": "stream",
          "name": "stdout",
          "text": [
            "Requirement already satisfied: swig in /usr/local/lib/python3.11/dist-packages (4.3.0)\n",
            "Traceback (most recent call last):\n",
            "  File \"/usr/local/bin/pip3\", line 8, in <module>\n",
            "    sys.exit(main())\n",
            "             ^^^^^^\n",
            "  File \"/usr/local/lib/python3.11/dist-packages/pip/_internal/cli/main.py\", line 78, in main\n",
            "    command = create_command(cmd_name, isolated=(\"--isolated\" in cmd_args))\n",
            "              ^^^^^^^^^^^^^^^^^^^^^^^^^^^^^^^^^^^^^^^^^^^^^^^^^^^^^^^^^^^^^\n",
            "  File \"/usr/local/lib/python3.11/dist-packages/pip/_internal/commands/__init__.py\", line 114, in create_command\n",
            "    module = importlib.import_module(module_path)\n",
            "             ^^^^^^^^^^^^^^^^^^^^^^^^^^^^^^^^^^^^\n",
            "  File \"/usr/lib/python3.11/importlib/__init__.py\", line 126, in import_module\n",
            "    return _bootstrap._gcd_import(name[level:], package, level)\n",
            "           ^^^^^^^^^^^^^^^^^^^^^^^^^^^^^^^^^^^^^^^^^^^^^^^^^^^^\n",
            "  File \"<frozen importlib._bootstrap>\", line 1204, in _gcd_import\n",
            "  File \"<frozen importlib._bootstrap>\", line 1176, in _find_and_load\n",
            "  File \"<frozen importlib._bootstrap>\", line 1147, in _find_and_load_unlocked\n",
            "  File \"<frozen importlib._bootstrap>\", line 690, in _load_unlocked\n",
            "  File \"<frozen importlib._bootstrap_external>\", line 940, in exec_module\n",
            "  File \"<frozen importlib._bootstrap>\", line 241, in _call_with_frames_removed\n",
            "  File \"/usr/local/lib/python3.11/dist-packages/pip/_internal/commands/install.py\", line 15, in <module>\n",
            "    from pip._internal.cli.req_command import (\n",
            "  File \"/usr/local/lib/python3.11/dist-packages/pip/_internal/cli/req_command.py\", line 23, in <module>\n",
            "    from pip._internal.operations.build.build_tracker import BuildTracker\n",
            "  File \"/usr/local/lib/python3.11/dist-packages/pip/_internal/operations/build/build_tracker.py\", line 53, in <module>\n",
            "    class TrackerId(str):\n",
            "KeyboardInterrupt\n",
            "^C\n"
          ]
        }
      ]
    },
    {
      "cell_type": "code",
      "execution_count": 97,
      "metadata": {
        "id": "XJ2x3FuTCEeh",
        "colab": {
          "base_uri": "https://localhost:8080/"
        },
        "outputId": "bf1b3635-9326-4df3-8637-44734f46506c"
      },
      "outputs": [
        {
          "output_type": "stream",
          "name": "stdout",
          "text": [
            "cpu\n"
          ]
        }
      ],
      "source": [
        "\n",
        "device = torch.device(\"cuda\" if torch.cuda.is_available() else \"cpu\")\n",
        "print(device)\n"
      ]
    },
    {
      "cell_type": "code",
      "source": [
        "import gymnasium as gym\n",
        "import numpy as np\n",
        "import torch\n",
        "from matplotlib import pyplot as plt\n",
        "from agents.cnn_dqn import CNN_DQN_Agent\n",
        "\n",
        "# def preprocess_image(state):\n",
        "#     \"\"\"Converts RGB image to grayscale and resizes\"\"\"\n",
        "#     import cv2\n",
        "#     gray = cv2.cvtColor(state, cv2.COLOR_RGB2GRAY)\n",
        "#     gray = cv2.resize(gray, (96, 96))\n",
        "#     return np.expand_dims(gray, axis=0)  # Add channel dim\n",
        "\n",
        "def train_agent(episodes=500):\n",
        "    env = gym.make(\"CarRacing-v3\", render_mode=\"rgb_array\", lap_complete_percent=0.95, domain_randomize=False, continuous=False)\n",
        "\n",
        "    agent = CNN_DQN_Agent(input_shape=env.observation_space.shape, num_actions=env.action_space.n)\n",
        "    agent.load_checkpoint()\n",
        "\n",
        "\n",
        "\n",
        "    for episode in range(episodes):\n",
        "        state, info = env.reset()\n",
        "        state = torch.tensor(state, dtype=torch.float32, device=device).unsqueeze(0)\n",
        "        # state = preprocess_image(state)\n",
        "        total_reward = 0\n",
        "        done = False\n",
        "\n",
        "        while not done:\n",
        "            action = agent.select_action(state)\n",
        "            print(f\"Action: {action}\")\n",
        "            next_state, reward, done, _, _ = env.step(action)\n",
        "            # next_state = preprocess_image(next_state)\n",
        "\n",
        "            agent.store_transition(state, action, reward, next_state, done)\n",
        "            agent.train_step()\n",
        "            state = next_state\n",
        "            total_reward += reward\n",
        "\n",
        "        agent.log_reward(episode, total_reward)\n",
        "\n",
        "        if episode % 50 == 0:\n",
        "            agent.save_checkpoint(episode)\n",
        "\n",
        "        print(f\"Episode {episode}: Total Reward: {total_reward}\")\n",
        "\n",
        "    env.close()\n",
        "\n",
        "\n"
      ],
      "metadata": {
        "id": "o5aa6DS9C83Z"
      },
      "execution_count": 100,
      "outputs": []
    },
    {
      "cell_type": "code",
      "source": [
        "train_agent()"
      ],
      "metadata": {
        "colab": {
          "base_uri": "https://localhost:8080/",
          "height": 1000
        },
        "id": "0qqda2CmlR_9",
        "outputId": "340b287f-23a6-4b45-d2be-e17961431975"
      },
      "execution_count": 101,
      "outputs": [
        {
          "output_type": "error",
          "ename": "TypeError",
          "evalue": "Input image tensor permitted channel values are [1, 3], but found 96",
          "traceback": [
            "\u001b[0;31m---------------------------------------------------------------------------\u001b[0m",
            "\u001b[0;31mTypeError\u001b[0m                                 Traceback (most recent call last)",
            "\u001b[0;32m<ipython-input-101-bfa0306a39ab>\u001b[0m in \u001b[0;36m<cell line: 0>\u001b[0;34m()\u001b[0m\n\u001b[0;32m----> 1\u001b[0;31m \u001b[0mtrain_agent\u001b[0m\u001b[0;34m(\u001b[0m\u001b[0;34m)\u001b[0m\u001b[0;34m\u001b[0m\u001b[0;34m\u001b[0m\u001b[0m\n\u001b[0m",
            "\u001b[0;32m<ipython-input-100-f91207ef4ed2>\u001b[0m in \u001b[0;36mtrain_agent\u001b[0;34m(episodes)\u001b[0m\n\u001b[1;32m     28\u001b[0m \u001b[0;34m\u001b[0m\u001b[0m\n\u001b[1;32m     29\u001b[0m         \u001b[0;32mwhile\u001b[0m \u001b[0;32mnot\u001b[0m \u001b[0mdone\u001b[0m\u001b[0;34m:\u001b[0m\u001b[0;34m\u001b[0m\u001b[0;34m\u001b[0m\u001b[0m\n\u001b[0;32m---> 30\u001b[0;31m             \u001b[0maction\u001b[0m \u001b[0;34m=\u001b[0m \u001b[0magent\u001b[0m\u001b[0;34m.\u001b[0m\u001b[0mact\u001b[0m\u001b[0;34m(\u001b[0m\u001b[0mstate\u001b[0m\u001b[0;34m)\u001b[0m\u001b[0;34m\u001b[0m\u001b[0;34m\u001b[0m\u001b[0m\n\u001b[0m\u001b[1;32m     31\u001b[0m             \u001b[0mnext_state\u001b[0m\u001b[0;34m,\u001b[0m \u001b[0mreward\u001b[0m\u001b[0;34m,\u001b[0m \u001b[0mdone\u001b[0m\u001b[0;34m,\u001b[0m \u001b[0m_\u001b[0m\u001b[0;34m,\u001b[0m \u001b[0m_\u001b[0m \u001b[0;34m=\u001b[0m \u001b[0menv\u001b[0m\u001b[0;34m.\u001b[0m\u001b[0mstep\u001b[0m\u001b[0;34m(\u001b[0m\u001b[0maction\u001b[0m\u001b[0;34m)\u001b[0m\u001b[0;34m\u001b[0m\u001b[0;34m\u001b[0m\u001b[0m\n\u001b[1;32m     32\u001b[0m             \u001b[0;31m# next_state = preprocess_image(next_state)\u001b[0m\u001b[0;34m\u001b[0m\u001b[0;34m\u001b[0m\u001b[0m\n",
            "\u001b[0;32m/content/gdrive/MyDrive/EVA_MiLab_Hackathon/agents/cnn_dqn.py\u001b[0m in \u001b[0;36mact\u001b[0;34m(self, state, explore)\u001b[0m\n\u001b[1;32m     64\u001b[0m         \u001b[0;34m\"\"\"Selects an action using epsilon-greedy strategy\"\"\"\u001b[0m\u001b[0;34m\u001b[0m\u001b[0;34m\u001b[0m\u001b[0m\n\u001b[1;32m     65\u001b[0m         \u001b[0;32mif\u001b[0m \u001b[0mexplore\u001b[0m \u001b[0;32mand\u001b[0m \u001b[0mnp\u001b[0m\u001b[0;34m.\u001b[0m\u001b[0mrandom\u001b[0m\u001b[0;34m.\u001b[0m\u001b[0mrand\u001b[0m\u001b[0;34m(\u001b[0m\u001b[0;34m)\u001b[0m \u001b[0;34m<\u001b[0m \u001b[0mself\u001b[0m\u001b[0;34m.\u001b[0m\u001b[0mepsilon\u001b[0m\u001b[0;34m:\u001b[0m\u001b[0;34m\u001b[0m\u001b[0;34m\u001b[0m\u001b[0m\n\u001b[0;32m---> 66\u001b[0;31m             \u001b[0;32mreturn\u001b[0m \u001b[0mnp\u001b[0m\u001b[0;34m.\u001b[0m\u001b[0mrandom\u001b[0m\u001b[0;34m.\u001b[0m\u001b[0mrandint\u001b[0m\u001b[0;34m(\u001b[0m\u001b[0;36m0\u001b[0m\u001b[0;34m,\u001b[0m \u001b[0mlen\u001b[0m\u001b[0;34m(\u001b[0m\u001b[0mself\u001b[0m\u001b[0;34m.\u001b[0m\u001b[0mnum_actions\u001b[0m\u001b[0;34m)\u001b[0m\u001b[0;34m)\u001b[0m  \u001b[0;31m# Random action\u001b[0m\u001b[0;34m\u001b[0m\u001b[0;34m\u001b[0m\u001b[0m\n\u001b[0m\u001b[1;32m     67\u001b[0m         \u001b[0mstate\u001b[0m \u001b[0;34m=\u001b[0m \u001b[0mtorch\u001b[0m\u001b[0;34m.\u001b[0m\u001b[0mtensor\u001b[0m\u001b[0;34m(\u001b[0m\u001b[0mstate\u001b[0m\u001b[0;34m,\u001b[0m \u001b[0mdtype\u001b[0m\u001b[0;34m=\u001b[0m\u001b[0mtorch\u001b[0m\u001b[0;34m.\u001b[0m\u001b[0mfloat32\u001b[0m\u001b[0;34m,\u001b[0m \u001b[0mdevice\u001b[0m\u001b[0;34m=\u001b[0m\u001b[0mself\u001b[0m\u001b[0;34m.\u001b[0m\u001b[0mdevice\u001b[0m\u001b[0;34m)\u001b[0m\u001b[0;34m.\u001b[0m\u001b[0munsqueeze\u001b[0m\u001b[0;34m(\u001b[0m\u001b[0;36m0\u001b[0m\u001b[0;34m)\u001b[0m\u001b[0;34m\u001b[0m\u001b[0;34m\u001b[0m\u001b[0m\n\u001b[1;32m     68\u001b[0m         \u001b[0;32mwith\u001b[0m \u001b[0mtorch\u001b[0m\u001b[0;34m.\u001b[0m\u001b[0mno_grad\u001b[0m\u001b[0;34m(\u001b[0m\u001b[0;34m)\u001b[0m\u001b[0;34m:\u001b[0m\u001b[0;34m\u001b[0m\u001b[0;34m\u001b[0m\u001b[0m\n",
            "\u001b[0;32m/usr/local/lib/python3.11/dist-packages/torch/nn/modules/module.py\u001b[0m in \u001b[0;36m_wrapped_call_impl\u001b[0;34m(self, *args, **kwargs)\u001b[0m\n\u001b[1;32m   1734\u001b[0m             \u001b[0;32mreturn\u001b[0m \u001b[0mself\u001b[0m\u001b[0;34m.\u001b[0m\u001b[0m_compiled_call_impl\u001b[0m\u001b[0;34m(\u001b[0m\u001b[0;34m*\u001b[0m\u001b[0margs\u001b[0m\u001b[0;34m,\u001b[0m \u001b[0;34m**\u001b[0m\u001b[0mkwargs\u001b[0m\u001b[0;34m)\u001b[0m  \u001b[0;31m# type: ignore[misc]\u001b[0m\u001b[0;34m\u001b[0m\u001b[0;34m\u001b[0m\u001b[0m\n\u001b[1;32m   1735\u001b[0m         \u001b[0;32melse\u001b[0m\u001b[0;34m:\u001b[0m\u001b[0;34m\u001b[0m\u001b[0;34m\u001b[0m\u001b[0m\n\u001b[0;32m-> 1736\u001b[0;31m             \u001b[0;32mreturn\u001b[0m \u001b[0mself\u001b[0m\u001b[0;34m.\u001b[0m\u001b[0m_call_impl\u001b[0m\u001b[0;34m(\u001b[0m\u001b[0;34m*\u001b[0m\u001b[0margs\u001b[0m\u001b[0;34m,\u001b[0m \u001b[0;34m**\u001b[0m\u001b[0mkwargs\u001b[0m\u001b[0;34m)\u001b[0m\u001b[0;34m\u001b[0m\u001b[0;34m\u001b[0m\u001b[0m\n\u001b[0m\u001b[1;32m   1737\u001b[0m \u001b[0;34m\u001b[0m\u001b[0m\n\u001b[1;32m   1738\u001b[0m     \u001b[0;31m# torchrec tests the code consistency with the following code\u001b[0m\u001b[0;34m\u001b[0m\u001b[0;34m\u001b[0m\u001b[0m\n",
            "\u001b[0;32m/usr/local/lib/python3.11/dist-packages/torch/nn/modules/module.py\u001b[0m in \u001b[0;36m_call_impl\u001b[0;34m(self, *args, **kwargs)\u001b[0m\n\u001b[1;32m   1745\u001b[0m                 \u001b[0;32mor\u001b[0m \u001b[0m_global_backward_pre_hooks\u001b[0m \u001b[0;32mor\u001b[0m \u001b[0m_global_backward_hooks\u001b[0m\u001b[0;34m\u001b[0m\u001b[0;34m\u001b[0m\u001b[0m\n\u001b[1;32m   1746\u001b[0m                 or _global_forward_hooks or _global_forward_pre_hooks):\n\u001b[0;32m-> 1747\u001b[0;31m             \u001b[0;32mreturn\u001b[0m \u001b[0mforward_call\u001b[0m\u001b[0;34m(\u001b[0m\u001b[0;34m*\u001b[0m\u001b[0margs\u001b[0m\u001b[0;34m,\u001b[0m \u001b[0;34m**\u001b[0m\u001b[0mkwargs\u001b[0m\u001b[0;34m)\u001b[0m\u001b[0;34m\u001b[0m\u001b[0;34m\u001b[0m\u001b[0m\n\u001b[0m\u001b[1;32m   1748\u001b[0m \u001b[0;34m\u001b[0m\u001b[0m\n\u001b[1;32m   1749\u001b[0m         \u001b[0mresult\u001b[0m \u001b[0;34m=\u001b[0m \u001b[0;32mNone\u001b[0m\u001b[0;34m\u001b[0m\u001b[0;34m\u001b[0m\u001b[0m\n",
            "\u001b[0;32m/content/gdrive/MyDrive/EVA_MiLab_Hackathon/agents/cnn_dqn.py\u001b[0m in \u001b[0;36mforward\u001b[0;34m(self, x)\u001b[0m\n\u001b[1;32m     28\u001b[0m \u001b[0;34m\u001b[0m\u001b[0m\n\u001b[1;32m     29\u001b[0m     \u001b[0;32mdef\u001b[0m \u001b[0mforward\u001b[0m\u001b[0;34m(\u001b[0m\u001b[0mself\u001b[0m\u001b[0;34m,\u001b[0m \u001b[0mx\u001b[0m\u001b[0;34m)\u001b[0m\u001b[0;34m:\u001b[0m\u001b[0;34m\u001b[0m\u001b[0;34m\u001b[0m\u001b[0m\n\u001b[0;32m---> 30\u001b[0;31m         \u001b[0mx\u001b[0m \u001b[0;34m=\u001b[0m \u001b[0mrgb_to_grayscale\u001b[0m\u001b[0;34m(\u001b[0m\u001b[0mx\u001b[0m\u001b[0;34m)\u001b[0m\u001b[0;34m\u001b[0m\u001b[0;34m\u001b[0m\u001b[0m\n\u001b[0m\u001b[1;32m     31\u001b[0m \u001b[0;34m\u001b[0m\u001b[0m\n\u001b[1;32m     32\u001b[0m         \u001b[0mx\u001b[0m \u001b[0;34m=\u001b[0m \u001b[0mself\u001b[0m\u001b[0;34m.\u001b[0m\u001b[0mpool1\u001b[0m\u001b[0;34m(\u001b[0m\u001b[0mtorch\u001b[0m\u001b[0;34m.\u001b[0m\u001b[0mrelu\u001b[0m\u001b[0;34m(\u001b[0m\u001b[0mself\u001b[0m\u001b[0;34m.\u001b[0m\u001b[0mconv1\u001b[0m\u001b[0;34m(\u001b[0m\u001b[0mx\u001b[0m\u001b[0;34m)\u001b[0m\u001b[0;34m)\u001b[0m\u001b[0;34m)\u001b[0m\u001b[0;34m\u001b[0m\u001b[0;34m\u001b[0m\u001b[0m\n",
            "\u001b[0;32m/usr/local/lib/python3.11/dist-packages/torchvision/transforms/functional.py\u001b[0m in \u001b[0;36mrgb_to_grayscale\u001b[0;34m(img, num_output_channels)\u001b[0m\n\u001b[1;32m   1289\u001b[0m         \u001b[0;32mreturn\u001b[0m \u001b[0mF_pil\u001b[0m\u001b[0;34m.\u001b[0m\u001b[0mto_grayscale\u001b[0m\u001b[0;34m(\u001b[0m\u001b[0mimg\u001b[0m\u001b[0;34m,\u001b[0m \u001b[0mnum_output_channels\u001b[0m\u001b[0;34m)\u001b[0m\u001b[0;34m\u001b[0m\u001b[0;34m\u001b[0m\u001b[0m\n\u001b[1;32m   1290\u001b[0m \u001b[0;34m\u001b[0m\u001b[0m\n\u001b[0;32m-> 1291\u001b[0;31m     \u001b[0;32mreturn\u001b[0m \u001b[0mF_t\u001b[0m\u001b[0;34m.\u001b[0m\u001b[0mrgb_to_grayscale\u001b[0m\u001b[0;34m(\u001b[0m\u001b[0mimg\u001b[0m\u001b[0;34m,\u001b[0m \u001b[0mnum_output_channels\u001b[0m\u001b[0;34m)\u001b[0m\u001b[0;34m\u001b[0m\u001b[0;34m\u001b[0m\u001b[0m\n\u001b[0m\u001b[1;32m   1292\u001b[0m \u001b[0;34m\u001b[0m\u001b[0m\n\u001b[1;32m   1293\u001b[0m \u001b[0;34m\u001b[0m\u001b[0m\n",
            "\u001b[0;32m/usr/local/lib/python3.11/dist-packages/torchvision/transforms/_functional_tensor.py\u001b[0m in \u001b[0;36mrgb_to_grayscale\u001b[0;34m(img, num_output_channels)\u001b[0m\n\u001b[1;32m    149\u001b[0m     \u001b[0;32mif\u001b[0m \u001b[0mimg\u001b[0m\u001b[0;34m.\u001b[0m\u001b[0mndim\u001b[0m \u001b[0;34m<\u001b[0m \u001b[0;36m3\u001b[0m\u001b[0;34m:\u001b[0m\u001b[0;34m\u001b[0m\u001b[0;34m\u001b[0m\u001b[0m\n\u001b[1;32m    150\u001b[0m         \u001b[0;32mraise\u001b[0m \u001b[0mTypeError\u001b[0m\u001b[0;34m(\u001b[0m\u001b[0;34mf\"Input image tensor should have at least 3 dimensions, but found {img.ndim}\"\u001b[0m\u001b[0;34m)\u001b[0m\u001b[0;34m\u001b[0m\u001b[0;34m\u001b[0m\u001b[0m\n\u001b[0;32m--> 151\u001b[0;31m     \u001b[0m_assert_channels\u001b[0m\u001b[0;34m(\u001b[0m\u001b[0mimg\u001b[0m\u001b[0;34m,\u001b[0m \u001b[0;34m[\u001b[0m\u001b[0;36m1\u001b[0m\u001b[0;34m,\u001b[0m \u001b[0;36m3\u001b[0m\u001b[0;34m]\u001b[0m\u001b[0;34m)\u001b[0m\u001b[0;34m\u001b[0m\u001b[0;34m\u001b[0m\u001b[0m\n\u001b[0m\u001b[1;32m    152\u001b[0m \u001b[0;34m\u001b[0m\u001b[0m\n\u001b[1;32m    153\u001b[0m     \u001b[0;32mif\u001b[0m \u001b[0mnum_output_channels\u001b[0m \u001b[0;32mnot\u001b[0m \u001b[0;32min\u001b[0m \u001b[0;34m(\u001b[0m\u001b[0;36m1\u001b[0m\u001b[0;34m,\u001b[0m \u001b[0;36m3\u001b[0m\u001b[0;34m)\u001b[0m\u001b[0;34m:\u001b[0m\u001b[0;34m\u001b[0m\u001b[0;34m\u001b[0m\u001b[0m\n",
            "\u001b[0;32m/usr/local/lib/python3.11/dist-packages/torchvision/transforms/_functional_tensor.py\u001b[0m in \u001b[0;36m_assert_channels\u001b[0;34m(img, permitted)\u001b[0m\n\u001b[1;32m     61\u001b[0m     \u001b[0mc\u001b[0m \u001b[0;34m=\u001b[0m \u001b[0mget_dimensions\u001b[0m\u001b[0;34m(\u001b[0m\u001b[0mimg\u001b[0m\u001b[0;34m)\u001b[0m\u001b[0;34m[\u001b[0m\u001b[0;36m0\u001b[0m\u001b[0;34m]\u001b[0m\u001b[0;34m\u001b[0m\u001b[0;34m\u001b[0m\u001b[0m\n\u001b[1;32m     62\u001b[0m     \u001b[0;32mif\u001b[0m \u001b[0mc\u001b[0m \u001b[0;32mnot\u001b[0m \u001b[0;32min\u001b[0m \u001b[0mpermitted\u001b[0m\u001b[0;34m:\u001b[0m\u001b[0;34m\u001b[0m\u001b[0;34m\u001b[0m\u001b[0m\n\u001b[0;32m---> 63\u001b[0;31m         \u001b[0;32mraise\u001b[0m \u001b[0mTypeError\u001b[0m\u001b[0;34m(\u001b[0m\u001b[0;34mf\"Input image tensor permitted channel values are {permitted}, but found {c}\"\u001b[0m\u001b[0;34m)\u001b[0m\u001b[0;34m\u001b[0m\u001b[0;34m\u001b[0m\u001b[0m\n\u001b[0m\u001b[1;32m     64\u001b[0m \u001b[0;34m\u001b[0m\u001b[0m\n\u001b[1;32m     65\u001b[0m \u001b[0;34m\u001b[0m\u001b[0m\n",
            "\u001b[0;31mTypeError\u001b[0m: Input image tensor permitted channel values are [1, 3], but found 96"
          ]
        }
      ]
    },
    {
      "cell_type": "code",
      "source": [
        "state"
      ],
      "metadata": {
        "colab": {
          "base_uri": "https://localhost:8080/",
          "height": 137
        },
        "id": "42-Kp5oysNgk",
        "outputId": "0059c429-eeb7-4f0b-899f-08db9964a88b"
      },
      "execution_count": 94,
      "outputs": [
        {
          "output_type": "execute_result",
          "data": {
            "text/plain": [
              "array([[[0, 0, 0],\n",
              "        [0, 0, 0],\n",
              "        [0, 0, 0],\n",
              "        ...,\n",
              "        [0, 0, 0],\n",
              "        [0, 0, 0],\n",
              "        [0, 0, 0]],\n",
              "\n",
              "       [[0, 0, 0],\n",
              "        [0, 0, 0],\n",
              "        [0, 0, 0],\n",
              "        ...,\n",
              "        [0, 0, 0],\n",
              "        [0, 0, 0],\n",
              "        [0, 0, 0]],\n",
              "\n",
              "       [[0, 0, 0],\n",
              "        [0, 0, 0],\n",
              "        [0, 0, 0],\n",
              "        ...,\n",
              "        [0, 0, 0],\n",
              "        [0, 0, 0],\n",
              "        [0, 0, 0]],\n",
              "\n",
              "       ...,\n",
              "\n",
              "       [[0, 0, 0],\n",
              "        [0, 0, 0],\n",
              "        [0, 0, 0],\n",
              "        ...,\n",
              "        [0, 0, 0],\n",
              "        [0, 0, 0],\n",
              "        [0, 0, 0]],\n",
              "\n",
              "       [[0, 0, 0],\n",
              "        [0, 0, 0],\n",
              "        [0, 0, 0],\n",
              "        ...,\n",
              "        [0, 0, 0],\n",
              "        [0, 0, 0],\n",
              "        [0, 0, 0]],\n",
              "\n",
              "       [[0, 0, 0],\n",
              "        [0, 0, 0],\n",
              "        [0, 0, 0],\n",
              "        ...,\n",
              "        [0, 0, 0],\n",
              "        [0, 0, 0],\n",
              "        [0, 0, 0]]], dtype=uint8)"
            ],
            "text/html": [
              "<style>\n",
              "      .ndarray_repr .ndarray_raw_data {\n",
              "        display: none;\n",
              "      }\n",
              "      .ndarray_repr.show_array .ndarray_raw_data {\n",
              "        display: block;\n",
              "      }\n",
              "      .ndarray_repr.show_array .ndarray_image_preview {\n",
              "        display: none;\n",
              "      }\n",
              "      </style>\n",
              "      <div id=\"id-b90f16f8-0424-46df-a878-527010423730\" class=\"ndarray_repr\"><pre>ndarray (96, 96, 3) <button style=\"padding: 0 2px;\">show data</button></pre><img src=\"data:image/png;base64,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\" class=\"ndarray_image_preview\" /><pre class=\"ndarray_raw_data\">array([[[0, 0, 0],\n",
              "        [0, 0, 0],\n",
              "        [0, 0, 0],\n",
              "        ...,\n",
              "        [0, 0, 0],\n",
              "        [0, 0, 0],\n",
              "        [0, 0, 0]],\n",
              "\n",
              "       [[0, 0, 0],\n",
              "        [0, 0, 0],\n",
              "        [0, 0, 0],\n",
              "        ...,\n",
              "        [0, 0, 0],\n",
              "        [0, 0, 0],\n",
              "        [0, 0, 0]],\n",
              "\n",
              "       [[0, 0, 0],\n",
              "        [0, 0, 0],\n",
              "        [0, 0, 0],\n",
              "        ...,\n",
              "        [0, 0, 0],\n",
              "        [0, 0, 0],\n",
              "        [0, 0, 0]],\n",
              "\n",
              "       ...,\n",
              "\n",
              "       [[0, 0, 0],\n",
              "        [0, 0, 0],\n",
              "        [0, 0, 0],\n",
              "        ...,\n",
              "        [0, 0, 0],\n",
              "        [0, 0, 0],\n",
              "        [0, 0, 0]],\n",
              "\n",
              "       [[0, 0, 0],\n",
              "        [0, 0, 0],\n",
              "        [0, 0, 0],\n",
              "        ...,\n",
              "        [0, 0, 0],\n",
              "        [0, 0, 0],\n",
              "        [0, 0, 0]],\n",
              "\n",
              "       [[0, 0, 0],\n",
              "        [0, 0, 0],\n",
              "        [0, 0, 0],\n",
              "        ...,\n",
              "        [0, 0, 0],\n",
              "        [0, 0, 0],\n",
              "        [0, 0, 0]]], dtype=uint8)</pre></div><script>\n",
              "      (() => {\n",
              "      const titles = ['show data', 'hide data'];\n",
              "      let index = 0\n",
              "      document.querySelector('#id-b90f16f8-0424-46df-a878-527010423730 button').onclick = (e) => {\n",
              "        document.querySelector('#id-b90f16f8-0424-46df-a878-527010423730').classList.toggle('show_array');\n",
              "        index = (++index) % 2;\n",
              "        document.querySelector('#id-b90f16f8-0424-46df-a878-527010423730 button').textContent = titles[index];\n",
              "        e.preventDefault();\n",
              "        e.stopPropagation();\n",
              "      }\n",
              "      })();\n",
              "    </script>"
            ]
          },
          "metadata": {},
          "execution_count": 94
        }
      ]
    },
    {
      "cell_type": "code",
      "source": [
        "print(state.shape)\n",
        "plt.imshow(state, interpolation='nearest')\n",
        "plt.show()"
      ],
      "metadata": {
        "colab": {
          "base_uri": "https://localhost:8080/",
          "height": 180
        },
        "id": "T-bL3TWplVjm",
        "outputId": "707fc589-7a16-4542-9449-1d1d812bcc14"
      },
      "execution_count": 91,
      "outputs": [
        {
          "output_type": "error",
          "ename": "AttributeError",
          "evalue": "'CNN_DQN_Agent' object has no attribute 'shape'",
          "traceback": [
            "\u001b[0;31m---------------------------------------------------------------------------\u001b[0m",
            "\u001b[0;31mAttributeError\u001b[0m                            Traceback (most recent call last)",
            "\u001b[0;32m<ipython-input-91-ed89bcba6a14>\u001b[0m in \u001b[0;36m<cell line: 0>\u001b[0;34m()\u001b[0m\n\u001b[0;32m----> 1\u001b[0;31m \u001b[0mprint\u001b[0m\u001b[0;34m(\u001b[0m\u001b[0mstate\u001b[0m\u001b[0;34m.\u001b[0m\u001b[0mshape\u001b[0m\u001b[0;34m)\u001b[0m\u001b[0;34m\u001b[0m\u001b[0;34m\u001b[0m\u001b[0m\n\u001b[0m\u001b[1;32m      2\u001b[0m \u001b[0mplt\u001b[0m\u001b[0;34m.\u001b[0m\u001b[0mimshow\u001b[0m\u001b[0;34m(\u001b[0m\u001b[0mstate\u001b[0m\u001b[0;34m,\u001b[0m \u001b[0minterpolation\u001b[0m\u001b[0;34m=\u001b[0m\u001b[0;34m'nearest'\u001b[0m\u001b[0;34m)\u001b[0m\u001b[0;34m\u001b[0m\u001b[0;34m\u001b[0m\u001b[0m\n\u001b[1;32m      3\u001b[0m \u001b[0mplt\u001b[0m\u001b[0;34m.\u001b[0m\u001b[0mshow\u001b[0m\u001b[0;34m(\u001b[0m\u001b[0;34m)\u001b[0m\u001b[0;34m\u001b[0m\u001b[0;34m\u001b[0m\u001b[0m\n",
            "\u001b[0;31mAttributeError\u001b[0m: 'CNN_DQN_Agent' object has no attribute 'shape'"
          ]
        }
      ]
    },
    {
      "cell_type": "code",
      "source": [],
      "metadata": {
        "id": "7yOao9XimRPt"
      },
      "execution_count": null,
      "outputs": []
    }
  ]
}