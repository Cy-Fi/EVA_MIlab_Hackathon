{
  "nbformat": 4,
  "nbformat_minor": 0,
  "metadata": {
    "colab": {
      "provenance": []
    },
    "kernelspec": {
      "name": "python3",
      "display_name": "Python 3"
    },
    "language_info": {
      "name": "python"
    }
  },
  "cells": [
    {
      "cell_type": "markdown",
      "source": [
        "# PPO"
      ],
      "metadata": {
        "id": "XvdKIT0U2PN4"
      }
    },
    {
      "cell_type": "code",
      "source": [
        "from google.colab import drive\n",
        "drive.mount('/content/gdrive')\n",
        "%cd /content/gdrive/My Drive/EVA_MiLab_Hackathon\n",
        "\n",
        "%load_ext autoreload\n",
        "%autoreload 2"
      ],
      "metadata": {
        "colab": {
          "base_uri": "https://localhost:8080/"
        },
        "id": "vS_0d48Ojx0q",
        "outputId": "d8acbf82-4a60-4acc-a888-8febccf665b2"
      },
      "execution_count": 9,
      "outputs": [
        {
          "output_type": "stream",
          "name": "stdout",
          "text": [
            "Drive already mounted at /content/gdrive; to attempt to forcibly remount, call drive.mount(\"/content/gdrive\", force_remount=True).\n",
            "/content/gdrive/My Drive/EVA_MiLab_Hackathon\n",
            "The autoreload extension is already loaded. To reload it, use:\n",
            "  %reload_ext autoreload\n"
          ]
        }
      ]
    },
    {
      "cell_type": "code",
      "source": [
        "!pip install swig\n",
        "!pip install \"gymnasium[box2d]==1.0.0\""
      ],
      "metadata": {
        "colab": {
          "base_uri": "https://localhost:8080/"
        },
        "id": "tFsQ0KVWlGZb",
        "outputId": "02069150-c1d9-466b-9e55-00c2f432c9ab"
      },
      "execution_count": 10,
      "outputs": [
        {
          "output_type": "stream",
          "name": "stdout",
          "text": [
            "Requirement already satisfied: swig in /usr/local/lib/python3.11/dist-packages (4.3.0)\n",
            "Requirement already satisfied: gymnasium==1.0.0 in /usr/local/lib/python3.11/dist-packages (from gymnasium[box2d]==1.0.0) (1.0.0)\n",
            "Requirement already satisfied: numpy>=1.21.0 in /usr/local/lib/python3.11/dist-packages (from gymnasium==1.0.0->gymnasium[box2d]==1.0.0) (1.26.4)\n",
            "Requirement already satisfied: cloudpickle>=1.2.0 in /usr/local/lib/python3.11/dist-packages (from gymnasium==1.0.0->gymnasium[box2d]==1.0.0) (3.1.1)\n",
            "Requirement already satisfied: typing-extensions>=4.3.0 in /usr/local/lib/python3.11/dist-packages (from gymnasium==1.0.0->gymnasium[box2d]==1.0.0) (4.12.2)\n",
            "Requirement already satisfied: farama-notifications>=0.0.1 in /usr/local/lib/python3.11/dist-packages (from gymnasium==1.0.0->gymnasium[box2d]==1.0.0) (0.0.4)\n",
            "Requirement already satisfied: box2d-py==2.3.5 in /usr/local/lib/python3.11/dist-packages (from gymnasium[box2d]==1.0.0) (2.3.5)\n",
            "Requirement already satisfied: pygame>=2.1.3 in /usr/local/lib/python3.11/dist-packages (from gymnasium[box2d]==1.0.0) (2.6.1)\n",
            "Requirement already satisfied: swig==4.* in /usr/local/lib/python3.11/dist-packages (from gymnasium[box2d]==1.0.0) (4.3.0)\n"
          ]
        }
      ]
    },
    {
      "cell_type": "code",
      "source": [
        "import numpy as np\n",
        "import torch\n",
        "\n",
        "def reward_shaping(reward, action, next_state):\n",
        "    \"\"\"\n",
        "    Modify rewards to encourage smoother driving.\n",
        "\n",
        "    Args:\n",
        "        reward (float): Original environment reward.\n",
        "        action (np.array): The action taken [steering, gas, brake].\n",
        "        next_state (np.array): The next state after action.\n",
        "\n",
        "    Returns:\n",
        "        float: Modified reward.\n",
        "    \"\"\"\n",
        "\n",
        "    steering, gas, brake = action[0], action[1], action[2]\n",
        "\n",
        "    # **1. Penalize Extreme Steering (Zig-Zagging)**\n",
        "    if abs(steering) > 0.8:\n",
        "        reward -= 0.1  # Reduce reward for large steering values\n",
        "\n",
        "    # **2. Reward Smooth Acceleration**\n",
        "    if gas > 0.6 and abs(steering) < 0.3:\n",
        "        reward += 0.1  # Bonus for accelerating straight\n",
        "\n",
        "    # **3. Penalize Over-Braking**\n",
        "    if brake > 0.5:\n",
        "        reward -= 0.05  # Reduce reward if braking is too high\n",
        "\n",
        "    # **4. Encourage Staying on the Track**\n",
        "    # Penalize if the car is off-road\n",
        "    off_track_penalty = detect_off_track(next_state)\n",
        "    reward -= off_track_penalty  # Apply penalty if off-track\n",
        "\n",
        "    return reward\n"
      ],
      "metadata": {
        "id": "t37eCmNA5JvW"
      },
      "execution_count": 22,
      "outputs": []
    },
    {
      "cell_type": "code",
      "source": [
        "def detect_off_track(next_state):\n",
        "    \"\"\"\n",
        "    Detect if the car is off the road by analyzing pixel values.\n",
        "\n",
        "    Args:\n",
        "        next_state (np.array): The next frame after taking an action.\n",
        "\n",
        "    Returns:\n",
        "        float: Penalty if the car is off the track.\n",
        "    \"\"\"\n",
        "    # Convert to numpy if tensor\n",
        "    if isinstance(next_state, torch.Tensor):\n",
        "        next_state = next_state.cpu().numpy()\n",
        "\n",
        "    # Extract a region around the car (assuming center-focused camera)\n",
        "    center_region = next_state[:, 40:56, 40:56]  # Crop middle part of image\n",
        "\n",
        "    # Calculate average brightness (off-road areas are generally lighter)\n",
        "    avg_pixel_value = np.mean(center_region)\n",
        "\n",
        "    # If too bright, likely off the road (penalize more)\n",
        "    if avg_pixel_value > 0.7:\n",
        "        return 0.2  # Apply penalty for off-track driving\n",
        "    return 0.0  # No penalty if on the road\n"
      ],
      "metadata": {
        "id": "q7C_5YLz5Mrp"
      },
      "execution_count": 23,
      "outputs": []
    },
    {
      "cell_type": "code",
      "source": [
        "from itertools import count\n",
        "import matplotlib\n",
        "import matplotlib.pyplot as plt\n",
        "from time import gmtime, strftime\n",
        "import gymnasium as gym\n",
        "import numpy as np\n",
        "import torch\n",
        "from matplotlib import pyplot as plt\n",
        "from agents.cnn_ppo import CNN_PPO_Agent\n",
        "\n",
        "def train_agent(episodes, run_name):\n",
        "    env = gym.make(\"CarRacing-v3\", render_mode=\"rgb_array\", lap_complete_percent=0.95, domain_randomize=False, continuous=True)\n",
        "    env._max_episode_steps = 1000\n",
        "    buffer = []\n",
        "    update_every = 2048  # Update PPO after collecting 2048 transitions\n",
        "\n",
        "    agent = CNN_PPO_Agent(input_shape=env.observation_space.shape, run_name=run_name)\n",
        "\n",
        "    for episode in range(episodes):\n",
        "        state, info = env.reset()\n",
        "        state = torch.tensor(state, dtype=torch.float32, device=agent.device)\n",
        "        state = state.permute(2, 0, 1).unsqueeze(0)  # Ensure shape (1, C, H, W)\n",
        "\n",
        "        total_reward = 0\n",
        "        done = False\n",
        "        t = 0\n",
        "\n",
        "        while not done:\n",
        "            action, log_prob, value = agent.select_action(state)\n",
        "            action = np.array(action, dtype=np.float32)\n",
        "\n",
        "            next_state, reward, done, _, _ = env.step(action)\n",
        "            reward = reward_shaping(reward, action, next_state)  # Apply reward shaping\n",
        "\n",
        "            next_state = torch.tensor(next_state, dtype=torch.float32, device=agent.device)\n",
        "            next_state = next_state.permute(2, 0, 1).unsqueeze(0)  # Ensure shape (1, 3, 96, 96)\n",
        "\n",
        "            buffer.append((state, action, reward, next_state, log_prob, value, done))\n",
        "\n",
        "            if len(buffer) >= update_every:\n",
        "                for transition in buffer:\n",
        "                    agent.store_transition(transition)\n",
        "                agent.update()\n",
        "                buffer = []  # Clear buffer after update\n",
        "\n",
        "            state = next_state\n",
        "            total_reward += reward\n",
        "            t += 1\n",
        "\n",
        "            if t >= 1000:  # Force episode termination after 1000 steps\n",
        "                print(f\"Episode {episode} reached max steps (1000), terminating.\")\n",
        "                done = True\n",
        "\n",
        "            if done:\n",
        "                agent.episode_durations.append(episode + 1)\n",
        "                plot_durations(agent.episode_durations)\n",
        "\n",
        "                if episode == episodes - 1:\n",
        "                    plot_durations(agent.episode_durations, show_result=True, save_path=f\"plots/{run_name}_training_plot.png\")\n",
        "                break\n",
        "\n",
        "        agent._log_reward(episode, total_reward)\n",
        "\n",
        "        if episode % 50 == 0:\n",
        "            agent.save_checkpoint(episode)\n",
        "\n",
        "        print(f\"Episode {episode}: Total Reward: {total_reward}\")\n",
        "\n",
        "    env.close()\n"
      ],
      "metadata": {
        "id": "o5aa6DS9C83Z"
      },
      "execution_count": 24,
      "outputs": []
    },
    {
      "cell_type": "code",
      "source": [
        "is_ipython = 'inline' in matplotlib.get_backend()\n",
        "if is_ipython:\n",
        "    from IPython import display\n",
        "device = torch.device(\"cuda\" if torch.cuda.is_available() else \"cpu\")\n",
        "print(f\"Using device {device}\")\n",
        "\n",
        "\n",
        "RUN_NAME = f\"CNN_PPO_{strftime('%Y%m%d%H%M%S', gmtime())}\"\n",
        "train_agent(episodes = 2, run_name = RUN_NAME)"
      ],
      "metadata": {
        "id": "0qqda2CmlR_9",
        "colab": {
          "base_uri": "https://localhost:8080/",
          "height": 545
        },
        "outputId": "f9b11b36-c105-4fc3-cd4c-04dd371dd16c"
      },
      "execution_count": 25,
      "outputs": [
        {
          "output_type": "display_data",
          "data": {
            "text/plain": [
              "<Figure size 640x480 with 1 Axes>"
            ],
            "image/png": "[encoded data removed]"
          },
          "metadata": {}
        },
        {
          "output_type": "display_data",
          "data": {
            "text/plain": [
              "<Figure size 640x480 with 0 Axes>"
            ]
          },
          "metadata": {}
        },
        {
          "output_type": "stream",
          "name": "stdout",
          "text": [
            "Plot saved at plots/CNN_PPO_20250211212310_training_plot.png\n",
            "Episode 1: Total Reward: -112.85410958904195\n"
          ]
        },
        {
          "output_type": "display_data",
          "data": {
            "text/plain": [
              "<Figure size 640x480 with 0 Axes>"
            ]
          },
          "metadata": {}
        }
      ]
    }
  ]
}